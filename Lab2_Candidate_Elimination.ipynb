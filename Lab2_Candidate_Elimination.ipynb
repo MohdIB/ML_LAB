{
 "cells": [
  {
   "cell_type": "code",
   "execution_count": 9,
   "id": "69e68f39",
   "metadata": {},
   "outputs": [
    {
     "name": "stdout",
     "output_type": "stream",
     "text": [
      "Concepts : \n",
      "[['sunny' 'warm' 'normal' 'strong' 'warm' 'same']\n",
      " ['sunny' 'warm' 'high' 'strong' 'warm' 'same']\n",
      " ['rainy' 'cold' 'high' 'strong' 'warm' 'change']\n",
      " ['sunny' 'warm' 'high' 'strong' 'cool' 'change']]\n",
      "Target :  ['yes' 'yes' 'no' 'yes']\n",
      "Specific Hypothesis :  ['sunny' 'warm' 'normal' 'strong' 'warm' 'same']\n",
      "General Hypothesis :  [['?', '?', '?', '?', '?', '?'], ['?', '?', '?', '?', '?', '?'], ['?', '?', '?', '?', '?', '?'], ['?', '?', '?', '?', '?', '?'], ['?', '?', '?', '?', '?', '?'], ['?', '?', '?', '?', '?', '?']] \n",
      "\n",
      "1 )\n",
      " If instance is Positive \n",
      "Specific Hypothesis :  ['sunny' 'warm' 'normal' 'strong' 'warm' 'same']\n",
      "General Hypothesis  :  [['?', '?', '?', '?', '?', '?'], ['?', '?', '?', '?', '?', '?'], ['?', '?', '?', '?', '?', '?'], ['?', '?', '?', '?', '?', '?'], ['?', '?', '?', '?', '?', '?'], ['?', '?', '?', '?', '?', '?']]\n",
      "\n",
      "2 )\n",
      " If instance is Positive \n",
      "Specific Hypothesis :  ['sunny' 'warm' '?' 'strong' 'warm' 'same']\n",
      "General Hypothesis  :  [['?', '?', '?', '?', '?', '?'], ['?', '?', '?', '?', '?', '?'], ['?', '?', '?', '?', '?', '?'], ['?', '?', '?', '?', '?', '?'], ['?', '?', '?', '?', '?', '?'], ['?', '?', '?', '?', '?', '?']]\n",
      "\n",
      "3 )\n",
      " If instance is Negative \n",
      "Specific Hypothesis :  ['sunny' 'warm' '?' 'strong' 'warm' 'same']\n",
      "General Hypothesis  :  [['sunny', '?', '?', '?', '?', '?'], ['?', 'warm', '?', '?', '?', '?'], ['?', '?', '?', '?', '?', '?'], ['?', '?', '?', '?', '?', '?'], ['?', '?', '?', '?', '?', '?'], ['?', '?', '?', '?', '?', 'same']]\n",
      "\n",
      "4 )\n",
      " If instance is Positive \n",
      "Specific Hypothesis :  ['sunny' 'warm' '?' 'strong' '?' '?']\n",
      "General Hypothesis  :  [['sunny', '?', '?', '?', '?', '?'], ['?', 'warm', '?', '?', '?', '?'], ['?', '?', '?', '?', '?', '?'], ['?', '?', '?', '?', '?', '?'], ['?', '?', '?', '?', '?', '?'], ['?', '?', '?', '?', '?', '?']]\n",
      "\n",
      "Final Specific_h:\n",
      "['sunny' 'warm' '?' 'strong' '?' '?']\n",
      "Final General_h:\n",
      "[['sunny', '?', '?', '?', '?', '?'], ['?', 'warm', '?', '?', '?', '?']]\n"
     ]
    }
   ],
   "source": [
    "import numpy as np\n",
    "import pandas as pd\n",
    "\n",
    "data = pd.read_csv('data.csv')\n",
    "concepts = np.array(data.iloc[:, 0:-1])\n",
    "print(\"Concepts : \")\n",
    "print(concepts)\n",
    "target = np.array(data.iloc[:, -1])\n",
    "print(\"Target : \", target)\n",
    "\n",
    "def learn(concepts, target):\n",
    "    specific_h = concepts[0].copy()\n",
    "    print(\"Specific Hypothesis : \", specific_h)\n",
    "    general_h = [[\"?\" for i in range(len(specific_h))]\n",
    "                 for i in range(len(specific_h))]\n",
    "    print(\"General Hypothesis : \", general_h,\"\\n\")\n",
    "    for i, h in enumerate(concepts):\n",
    "        if target[i] == \"yes\":\n",
    "            print(i+1,\")\\n If instance is Positive \")\n",
    "            for x in range(len(specific_h)):\n",
    "                if h[x] != specific_h[x]:\n",
    "                    specific_h[x] = '?'\n",
    "                    general_h[x][x] = '?'\n",
    "        if target[i] == \"no\":\n",
    "            print(i+1,\")\\n If instance is Negative \")\n",
    "            for x in range(len(specific_h)):\n",
    "                if h[x] != specific_h[x]:\n",
    "                    general_h[x][x] = specific_h[x]\n",
    "                else:\n",
    "                    general_h[x][x] = '?'\n",
    "        print(\"Specific Hypothesis : \", specific_h)\n",
    "        print(\"General Hypothesis  : \", general_h, end=\"\\n\\n\")\n",
    "    indices = [i for i, val in enumerate(general_h) if val == [\n",
    "        '?', '?', '?', '?', '?', '?']]\n",
    "    for i in indices:\n",
    "        general_h.remove(['?', '?', '?', '?', '?', '?'])\n",
    "    return specific_h, general_h\n",
    "s_final, g_final = learn(concepts, target)\n",
    "\n",
    "print(\"Final Specific_h:\", s_final, sep=\"\\n\")\n",
    "print(\"Final General_h:\", g_final, sep=\"\\n\")"
   ]
  },
  {
   "cell_type": "code",
   "execution_count": null,
   "id": "e48715b9",
   "metadata": {},
   "outputs": [],
   "source": []
  }
 ],
 "metadata": {
  "kernelspec": {
   "display_name": "Python 3 (ipykernel)",
   "language": "python",
   "name": "python3"
  },
  "language_info": {
   "codemirror_mode": {
    "name": "ipython",
    "version": 3
   },
   "file_extension": ".py",
   "mimetype": "text/x-python",
   "name": "python",
   "nbconvert_exporter": "python",
   "pygments_lexer": "ipython3",
   "version": "3.9.7"
  }
 },
 "nbformat": 4,
 "nbformat_minor": 5
}
